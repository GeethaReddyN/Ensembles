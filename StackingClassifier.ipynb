{
 "cells": [
  {
   "cell_type": "code",
   "execution_count": 4,
   "metadata": {},
   "outputs": [],
   "source": [
    "from sklearn.datasets import load_iris"
   ]
  },
  {
   "cell_type": "code",
   "execution_count": 5,
   "metadata": {},
   "outputs": [],
   "source": [
    "iris=load_iris()"
   ]
  },
  {
   "cell_type": "code",
   "execution_count": 6,
   "metadata": {},
   "outputs": [],
   "source": [
    "X,y=iris.data[:,1:3],iris.target"
   ]
  },
  {
   "cell_type": "code",
   "execution_count": 4,
   "metadata": {},
   "outputs": [
    {
     "name": "stdout",
     "output_type": "stream",
     "text": [
      "Collecting mlxtend\n",
      "  Downloading mlxtend-0.18.0-py2.py3-none-any.whl (1.3 MB)\n",
      "Requirement already satisfied: joblib>=0.13.2 in c:\\users\\91832\\appdata\\local\\programs\\python\\python38\\lib\\site-packages (from mlxtend) (0.17.0)\n",
      "Requirement already satisfied: scipy>=1.2.1 in c:\\users\\91832\\appdata\\local\\programs\\python\\python38\\lib\\site-packages (from mlxtend) (1.5.4)\n",
      "Requirement already satisfied: numpy>=1.16.2 in c:\\users\\91832\\appdata\\local\\programs\\python\\python38\\lib\\site-packages (from mlxtend) (1.19.3)\n",
      "Requirement already satisfied: setuptools in c:\\users\\91832\\appdata\\local\\programs\\python\\python38\\lib\\site-packages (from mlxtend) (49.2.1)\n",
      "Requirement already satisfied: matplotlib>=3.0.0 in c:\\users\\91832\\appdata\\local\\programs\\python\\python38\\lib\\site-packages (from mlxtend) (3.3.3)\n",
      "Requirement already satisfied: pandas>=0.24.2 in c:\\users\\91832\\appdata\\local\\programs\\python\\python38\\lib\\site-packages (from mlxtend) (1.1.4)\n",
      "Requirement already satisfied: scikit-learn>=0.20.3 in c:\\users\\91832\\appdata\\local\\programs\\python\\python38\\lib\\site-packages (from mlxtend) (0.23.2)\n",
      "Requirement already satisfied: kiwisolver>=1.0.1 in c:\\users\\91832\\appdata\\local\\programs\\python\\python38\\lib\\site-packages (from matplotlib>=3.0.0->mlxtend) (1.3.1)\n",
      "Requirement already satisfied: cycler>=0.10 in c:\\users\\91832\\appdata\\local\\programs\\python\\python38\\lib\\site-packages (from matplotlib>=3.0.0->mlxtend) (0.10.0)\n",
      "Requirement already satisfied: python-dateutil>=2.1 in c:\\users\\91832\\appdata\\local\\programs\\python\\python38\\lib\\site-packages (from matplotlib>=3.0.0->mlxtend) (2.8.1)\n",
      "Requirement already satisfied: pillow>=6.2.0 in c:\\users\\91832\\appdata\\local\\programs\\python\\python38\\lib\\site-packages (from matplotlib>=3.0.0->mlxtend) (8.0.1)\n",
      "Requirement already satisfied: pyparsing!=2.0.4,!=2.1.2,!=2.1.6,>=2.0.3 in c:\\users\\91832\\appdata\\local\\programs\\python\\python38\\lib\\site-packages (from matplotlib>=3.0.0->mlxtend) (2.4.7)\n",
      "Requirement already satisfied: six in c:\\users\\91832\\appdata\\local\\programs\\python\\python38\\lib\\site-packages (from cycler>=0.10->matplotlib>=3.0.0->mlxtend) (1.15.0)\n",
      "Requirement already satisfied: pytz>=2017.2 in c:\\users\\91832\\appdata\\local\\programs\\python\\python38\\lib\\site-packages (from pandas>=0.24.2->mlxtend) (2020.4)\n",
      "Requirement already satisfied: threadpoolctl>=2.0.0 in c:\\users\\91832\\appdata\\local\\programs\\python\\python38\\lib\\site-packages (from scikit-learn>=0.20.3->mlxtend) (2.1.0)\n",
      "Installing collected packages: mlxtend\n",
      "Successfully installed mlxtend-0.18.0\n",
      "Note: you may need to restart the kernel to use updated packages.\n"
     ]
    }
   ],
   "source": [
    "#pip install mlxtend"
   ]
  },
  {
   "cell_type": "code",
   "execution_count": 1,
   "metadata": {},
   "outputs": [],
   "source": [
    "from sklearn.model_selection import cross_val_score\n",
    "from sklearn.linear_model import LogisticRegression\n",
    "from sklearn.neighbors import KNeighborsClassifier\n",
    "from sklearn.naive_bayes import GaussianNB\n",
    "from sklearn.ensemble import RandomForestClassifier\n",
    "from mlxtend.classifier import StackingClassifier\n",
    "import numpy as np"
   ]
  },
  {
   "cell_type": "code",
   "execution_count": 2,
   "metadata": {},
   "outputs": [],
   "source": [
    "clf1=KNeighborsClassifier(n_neighbors=1)\n",
    "clf2=RandomForestClassifier(random_state=1)\n",
    "clf3=GaussianNB()\n",
    "clf4=LogisticRegression()\n",
    "sclf=StackingClassifier(classifiers=[clf1,clf2,clf3],meta_classifier=clf4)"
   ]
  },
  {
   "cell_type": "code",
   "execution_count": 7,
   "metadata": {},
   "outputs": [
    {
     "name": "stdout",
     "output_type": "stream",
     "text": [
      "3-fold cross validation:\n",
      "\n",
      "Accuracy: 0.91 (+/- 0.01) [KNN]\n",
      "Accuracy: 0.95 (+/- 0.01) [Random Forest]\n",
      "Accuracy: 0.91 (+/- 0.02) [Naive Bayes]\n",
      "Accuracy: 0.95 (+/- 0.02) [Stacking Classifier]\n"
     ]
    }
   ],
   "source": [
    "print('3-fold cross validation:\\n')\n",
    "for clf,label in zip([clf1,clf2,clf3,sclf],\n",
    "                    ['KNN',\n",
    "                    'Random Forest',\n",
    "                    'Naive Bayes',\n",
    "                    'Stacking Classifier']):\n",
    "    scores=cross_val_score(clf,X,y,cv=3,scoring='accuracy')\n",
    "    print(\"Accuracy: %0.2f (+/- %0.2f) [%s]\"\n",
    "         %(scores.mean(),scores.std(),label))"
   ]
  },
  {
   "cell_type": "code",
   "execution_count": 8,
   "metadata": {},
   "outputs": [
    {
     "name": "stdout",
     "output_type": "stream",
     "text": [
      "Collecting torch\n",
      "  Downloading torch-1.8.1-cp38-cp38-win_amd64.whl (190.5 MB)\n",
      "Requirement already satisfied: numpy in c:\\users\\91832\\appdata\\local\\programs\\python\\python38\\lib\\site-packages (from torch) (1.19.3)\n",
      "Collecting typing-extensions\n",
      "  Downloading typing_extensions-3.10.0.0-py3-none-any.whl (26 kB)\n",
      "Installing collected packages: typing-extensions, torch\n",
      "Successfully installed torch-1.8.1 typing-extensions-3.10.0.0\n",
      "Note: you may need to restart the kernel to use updated packages.\n"
     ]
    }
   ],
   "source": [
    "pip install torch"
   ]
  },
  {
   "cell_type": "code",
   "execution_count": null,
   "metadata": {},
   "outputs": [],
   "source": []
  }
 ],
 "metadata": {
  "kernelspec": {
   "display_name": "Python 3",
   "language": "python",
   "name": "python3"
  },
  "language_info": {
   "codemirror_mode": {
    "name": "ipython",
    "version": 3
   },
   "file_extension": ".py",
   "mimetype": "text/x-python",
   "name": "python",
   "nbconvert_exporter": "python",
   "pygments_lexer": "ipython3",
   "version": "3.8.6"
  }
 },
 "nbformat": 4,
 "nbformat_minor": 4
}
